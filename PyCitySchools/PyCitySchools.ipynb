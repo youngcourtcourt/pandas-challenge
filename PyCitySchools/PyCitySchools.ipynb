{
 "cells": [
  {
   "cell_type": "code",
   "execution_count": 29,
   "metadata": {},
   "outputs": [],
   "source": [
    "#import dependencies\n",
    "import pandas as pd"
   ]
  },
  {
   "cell_type": "code",
   "execution_count": 30,
   "metadata": {},
   "outputs": [],
   "source": [
    "#define file paths\n",
    "studentDataFile=\"students_complete.csv\"\n",
    "schoolDataFile=\"schools_complete.csv\""
   ]
  },
  {
   "cell_type": "code",
   "execution_count": 110,
   "metadata": {},
   "outputs": [],
   "source": [
    "#generate data frames based on file names\n",
    "studentDf=pd.read_csv(studentDataFile)\n",
    "schoolDf=pd.read_csv(schoolDataFile)"
   ]
  },
  {
   "cell_type": "code",
   "execution_count": 111,
   "metadata": {},
   "outputs": [],
   "source": [
    "#merge data sets based on school name\n",
    "schoolDataComplete=pd.merge(studentDf, schoolDf, how=\"left\", on=[\"school_name\", \"school_name\"])"
   ]
  },
  {
   "cell_type": "code",
   "execution_count": 33,
   "metadata": {},
   "outputs": [
    {
     "data": {
      "text/plain": [
       "Student ID        int64\n",
       "student_name     object\n",
       "gender           object\n",
       "grade            object\n",
       "school_name      object\n",
       "reading_score     int64\n",
       "math_score        int64\n",
       "School ID         int64\n",
       "type             object\n",
       "size              int64\n",
       "budget            int64\n",
       "dtype: object"
      ]
     },
     "execution_count": 33,
     "metadata": {},
     "output_type": "execute_result"
    }
   ],
   "source": [
    "schoolDataComplete.dtypes"
   ]
  },
  {
   "cell_type": "code",
   "execution_count": 112,
   "metadata": {},
   "outputs": [],
   "source": [
    "#find out how many unique values exist in the school name column to get number of schools\n",
    "numSchools=schoolDataComplete[\"school_name\"].nunique()"
   ]
  },
  {
   "cell_type": "code",
   "execution_count": 113,
   "metadata": {},
   "outputs": [],
   "source": [
    "#find out how many students there are by using count. We do not use nunique here in case students have same name\n",
    "numStudents=schoolDataComplete[\"student_name\"].count()"
   ]
  },
  {
   "cell_type": "code",
   "execution_count": 114,
   "metadata": {},
   "outputs": [],
   "source": [
    "#group the data by school name then use unique to get budget as it is listed multiple times\n",
    "budgetDf=schoolDataComplete.groupby([\"school_name\"])\n",
    "budgetSeries=budgetDf[\"budget\"].unique()\n",
    "#convert budget to a float so we can add it\n",
    "budgetSeriesFloats=budgetSeries.astype(float)\n",
    "totalBudget=budgetSeriesFloats.sum()"
   ]
  },
  {
   "cell_type": "code",
   "execution_count": 115,
   "metadata": {},
   "outputs": [],
   "source": [
    "#take mean of math score column\n",
    "avgMathScore=schoolDataComplete[\"math_score\"].mean()"
   ]
  },
  {
   "cell_type": "code",
   "execution_count": 116,
   "metadata": {},
   "outputs": [],
   "source": [
    "#take mean of reading score column\n",
    "avgReadingScore=schoolDataComplete[\"reading_score\"].mean()"
   ]
  },
  {
   "cell_type": "code",
   "execution_count": 117,
   "metadata": {},
   "outputs": [],
   "source": [
    "#filter columns for rows in which only scores greater than or equal to 70 exist then count those scores, divide them by total num students to get percentage\n",
    "passingMathScore=schoolDataComplete.loc[schoolDataComplete[\"math_score\"]>=70, :]\n",
    "passingMathStudent=passingMathScore[\"Student ID\"].count()\n",
    "passingMathPercent=(passingMathStudent/numStudents)*100"
   ]
  },
  {
   "cell_type": "code",
   "execution_count": 118,
   "metadata": {},
   "outputs": [],
   "source": [
    "passingReadingScore=schoolDataComplete.loc[schoolDataComplete[\"reading_score\"]>=70,:]\n",
    "passingReadingStudent=passingReadingScore[\"Student ID\"].count()\n",
    "passingReadingPercent=(passingReadingStudent/numStudents)*100"
   ]
  },
  {
   "cell_type": "code",
   "execution_count": 100,
   "metadata": {},
   "outputs": [
    {
     "data": {
      "text/plain": [
       "65.17232575950983"
      ]
     },
     "execution_count": 100,
     "metadata": {},
     "output_type": "execute_result"
    }
   ],
   "source": [
    "#perform filtering on both math and reading score >70 conditions\n",
    "overallPassingScore=schoolDataComplete.loc[(schoolDataComplete[\"math_score\"]>=70)&(schoolDataComplete[\"reading_score\"]>=70), :]\n",
    "overallPassingStudent=overallPassingScore[\"Student ID\"].count()\n",
    "overallPassingPercent=(overallPassingStudent/numStudents)*100\n"
   ]
  },
  {
   "cell_type": "code",
   "execution_count": 109,
   "metadata": {},
   "outputs": [
    {
     "data": {
      "text/html": [
       "<div>\n",
       "<style scoped>\n",
       "    .dataframe tbody tr th:only-of-type {\n",
       "        vertical-align: middle;\n",
       "    }\n",
       "\n",
       "    .dataframe tbody tr th {\n",
       "        vertical-align: top;\n",
       "    }\n",
       "\n",
       "    .dataframe thead th {\n",
       "        text-align: right;\n",
       "    }\n",
       "</style>\n",
       "<table border=\"1\" class=\"dataframe\">\n",
       "  <thead>\n",
       "    <tr style=\"text-align: right;\">\n",
       "      <th></th>\n",
       "      <th>Total Schools</th>\n",
       "      <th>Total Students</th>\n",
       "      <th>Total Budget</th>\n",
       "      <th>Average Math Score</th>\n",
       "      <th>Average Reading Score</th>\n",
       "      <th>% Passing Math</th>\n",
       "      <th>% Passing Reading</th>\n",
       "      <th>% Overall Passing</th>\n",
       "    </tr>\n",
       "  </thead>\n",
       "  <tbody>\n",
       "    <tr>\n",
       "      <th>0</th>\n",
       "      <td>15</td>\n",
       "      <td>39,170</td>\n",
       "      <td>$24,649,428.00</td>\n",
       "      <td>78.99</td>\n",
       "      <td>81.88</td>\n",
       "      <td>74.98%</td>\n",
       "      <td>85.81%</td>\n",
       "      <td>65.17%</td>\n",
       "    </tr>\n",
       "  </tbody>\n",
       "</table>\n",
       "</div>"
      ],
      "text/plain": [
       "   Total Schools Total Students    Total Budget Average Math Score  \\\n",
       "0             15         39,170  $24,649,428.00              78.99   \n",
       "\n",
       "  Average Reading Score % Passing Math % Passing Reading % Overall Passing  \n",
       "0                 81.88         74.98%            85.81%            65.17%  "
      ]
     },
     "execution_count": 109,
     "metadata": {},
     "output_type": "execute_result"
    }
   ],
   "source": [
    "district={\"Total Schools\":[numSchools], \"Total Students\":[numStudents], \"Total Budget\":[totalBudget], \"Average Math Score\":[avgMathScore], \"Average Reading Score\":[avgReadingScore], \"% Passing Math\":[passingMathPercent], \"% Passing Reading\":[passingReadingPercent], \"% Overall Passing\":[overallPassingPercent]}\n",
    "districtDf=pd.DataFrame(district)\n",
    "districtDf[\"Total Students\"]=districtDf[\"Total Students\"].map(\"{:,}\".format)\n",
    "districtDf[\"Total Budget\"]=districtDf[\"Total Budget\"].astype(float).map(\"${:,.2f}\".format)\n",
    "districtDf[\"Average Math Score\"]=districtDf[\"Average Math Score\"].astype(float).map(\"{:.2f}\".format)\n",
    "districtDf[\"Average Reading Score\"]=districtDf[\"Average Reading Score\"].astype(float).map(\"{:.2f}\".format)\n",
    "districtDf[\"% Passing Math\"]=districtDf[\"% Passing Math\"].astype(float).map(\"{:.2f}%\".format)\n",
    "districtDf[\"% Passing Reading\"]=districtDf[\"% Passing Reading\"].astype(float).map(\"{:.2f}%\".format)\n",
    "districtDf[\"% Overall Passing\"]=districtDf[\"% Overall Passing\"].astype(float).map(\"{:.2f}%\".format)\n",
    "districtDf\n"
   ]
  },
  {
   "cell_type": "code",
   "execution_count": null,
   "metadata": {},
   "outputs": [],
   "source": []
  }
 ],
 "metadata": {
  "kernelspec": {
   "display_name": "Python 3",
   "language": "python",
   "name": "python3"
  },
  "language_info": {
   "codemirror_mode": {
    "name": "ipython",
    "version": 3
   },
   "file_extension": ".py",
   "mimetype": "text/x-python",
   "name": "python",
   "nbconvert_exporter": "python",
   "pygments_lexer": "ipython3",
   "version": "3.8.5"
  }
 },
 "nbformat": 4,
 "nbformat_minor": 4
}
